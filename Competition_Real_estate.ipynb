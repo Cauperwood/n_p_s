{
 "cells": [
  {
   "cell_type": "code",
   "execution_count": 1,
   "metadata": {},
   "outputs": [
    {
     "name": "stderr",
     "output_type": "stream",
     "text": [
      "/Users/dmitrijsibircev/opt/miniconda3/lib/python3.7/site-packages/lightgbm/__init__.py:48: UserWarning: Starting from version 2.2.1, the library file in distribution wheels for macOS is built by the Apple Clang (Xcode_8.3.3) compiler.\n",
      "This means that in case of installing LightGBM from PyPI via the ``pip install lightgbm`` command, you don't need to install the gcc compiler anymore.\n",
      "Instead of that, you need to install the OpenMP library, which is required for running LightGBM on the system with the Apple Clang compiler.\n",
      "You can install the OpenMP library by the following command: ``brew install libomp``.\n",
      "  \"You can install the OpenMP library by the following command: ``brew install libomp``.\", UserWarning)\n"
     ]
    }
   ],
   "source": [
    "import numpy as np\n",
    "import pandas as pd\n",
    "import matplotlib.pyplot as plt\n",
    "from sklearn.metrics import r2_score\n",
    "from lightgbm import LGBMRegressor\n",
    "from sklearn.model_selection import train_test_split, KFold, GridSearchCV, cross_val_score\n",
    "from sklearn.ensemble import RandomForestRegressor\n",
    "from sklearn.ensemble import VotingRegressor"
   ]
  },
  {
   "cell_type": "code",
   "execution_count": 2,
   "metadata": {},
   "outputs": [],
   "source": [
    "df = pd.read_csv('train.csv')"
   ]
  },
  {
   "cell_type": "code",
   "execution_count": 3,
   "metadata": {},
   "outputs": [],
   "source": [
    "y = df[['Price']]\n",
    "x = df.drop('Price', axis=1)\n"
   ]
  },
  {
   "cell_type": "code",
   "execution_count": 4,
   "metadata": {},
   "outputs": [],
   "source": [
    "X_final = pd.read_csv('test.csv')\n"
   ]
  },
  {
   "cell_type": "code",
   "execution_count": 5,
   "metadata": {},
   "outputs": [],
   "source": [
    "preds_final = pd.DataFrame()\n",
    "preds_final['Id'] = X_final['Id'].copy()\n",
    "\n",
    "x.set_index('Id', inplace=True)\n",
    "X_final.set_index('Id', inplace=True)"
   ]
  },
  {
   "cell_type": "code",
   "execution_count": 6,
   "metadata": {},
   "outputs": [],
   "source": [
    "class repair_data:\n",
    "    \n",
    "    \n",
    "    def __init__(self):\n",
    "        self.medians = None\n",
    "                \n",
    "        \n",
    "    def fit(self, x):\n",
    "        self.medians = x.median()\n",
    "        \n",
    "        \n",
    "        \n",
    "    def transform(self, x):\n",
    "        # Rooms\n",
    "        x.loc[(x['Rooms'] > 6) ^ (x['Rooms'] == 0), 'Rooms'] = self.medians['Rooms']        \n",
    "        # KitchenSquare\n",
    "        x.loc[(x['KitchenSquare'] >= x['Square'] * 0.3) & (x['Square'] > 60) , 'KitchenSquare'] = 15\n",
    "        x.loc[(x['KitchenSquare'] >= x['Square'] * 0.3) & (x['Square'] < 60) & (x['Square'] > 35), 'KitchenSquare'] = 10\n",
    "        x.loc[(x['KitchenSquare'] >= x['Square'] * 0.3) & (x['Square'] < 35) , 'KitchenSquare'] = 7\n",
    "        x.loc[(x['KitchenSquare'] < 3) , 'KitchenSquare'] = 3\n",
    "        # LifeSquare\n",
    "        x.loc[(x['LifeSquare'].isna() == True) ^ (x['LifeSquare'] >= x['Square']), 'LifeSquare'] = x['Square'] - x['KitchenSquare'] - 4\n",
    "        # Floor & HouseFloor\n",
    "        x.loc[(x['Floor'] == 0), 'Floor'] = 1\n",
    "        x.loc[(x['Floor'] > x['HouseFloor']) & (x['HouseFloor'] != 0), 'Floor'] = x['HouseFloor']\n",
    "        x.loc[(x['HouseFloor'] == 0), 'HouseFloor'] = x['Floor']\n",
    "        # HouseYear\n",
    "        x.loc[(x['HouseYear'] > 2020), 'HouseYear'] = 2020\n",
    "        # Healthcare_1\n",
    "        x.drop(['Healthcare_1'], axis = 1, inplace =True)\n",
    "        # меняем А и В на 1 и 0 в Ecology_2 и тип на int\n",
    "        x.loc[x['Ecology_2'] == 'B', 'Ecology_2'] = 0\n",
    "        x.loc[x['Ecology_2'] == 'A', 'Ecology_2'] = 1\n",
    "        x.loc[x['Ecology_2'] == 1]\n",
    "        x['Ecology_2'] = x['Ecology_2'].astype(int)\n",
    "        # меняем А и В на 1 и 0 в Ecology_3 и тип на int\n",
    "        x.loc[x['Ecology_3'] == 'B', 'Ecology_3'] = 0\n",
    "        x.loc[x['Ecology_3'] == 'A', 'Ecology_3'] = 1\n",
    "        x.loc[x['Ecology_3'] == 1]\n",
    "        x['Ecology_3'] = x['Ecology_3'].astype(int)\n",
    "        # меняем А и В на 1 и 0 в Shops_2 и тип на int\n",
    "        x.loc[x['Shops_2'] == 'B', 'Shops_2'] = 0\n",
    "        x.loc[x['Shops_2'] == 'A', 'Shops_2'] = 1\n",
    "        x['Shops_2'] = x['Shops_2'].astype(int)\n",
    "        \n",
    "        return x\n",
    "        "
   ]
  },
  {
   "cell_type": "code",
   "execution_count": 7,
   "metadata": {},
   "outputs": [],
   "source": [
    "imputer = repair_data()\n",
    "\n",
    "imputer.fit(x) \n",
    "\n",
    "x = imputer.transform(x)\n",
    "\n",
    "X_final = imputer.transform(X_final)\n"
   ]
  },
  {
   "cell_type": "code",
   "execution_count": 8,
   "metadata": {},
   "outputs": [],
   "source": [
    "class FeatureGenetator():\n",
    "    \"\"\"Генерация новых фич\"\"\"\n",
    "    \n",
    "    def __init__(self):\n",
    "        self.DistrictId_counts = None\n",
    "        self.binary_to_numbers = None\n",
    "        self.med_price_by_district = None\n",
    "        self.med_price_by_floor_year = None\n",
    "        self.med_price_by_dist_year = None\n",
    "        self.e = None\n",
    "        self.dict_DistrictId_medians_HouseFloor = None\n",
    "        self.type_rooms_dict = None\n",
    "        \n",
    "    def fit(self, x, y=None):\n",
    "        \n",
    "        x = x.copy()\n",
    "        \n",
    "        # DistrictID\n",
    "        district = x['DistrictId'].value_counts()\n",
    "        district = district[district > 20]  \n",
    "        self.DistrictId_counts = dict(district)\n",
    "        \n",
    "        # DistrictId_medians_square\n",
    "        f = self.DistrictId_counts.keys()\n",
    "        e = {}\n",
    "        for i in f:\n",
    "            u = x.loc[(x['DistrictId'] == i), 'Square']\n",
    "            p = u.median()\n",
    "            e.update({i:p})\n",
    "        \n",
    "        self.e = e\n",
    "            \n",
    "        # DistrictId_medians_HouseFloor\n",
    "        \n",
    "        dict_DistrictId_medians_HouseFloor = {}\n",
    "        for num in f:\n",
    "            com_HF_dist = x.loc[(x['DistrictId'] == num), 'HouseFloor']\n",
    "            med_dist_HF = com_HF_dist.median()\n",
    "            dict_DistrictId_medians_HouseFloor.update({num : med_dist_HF})\n",
    "        \n",
    "        self.dict_DistrictId_medians_HouseFloor = dict_DistrictId_medians_HouseFloor\n",
    "               \n",
    "        # Square_Rooms\n",
    "        \n",
    "        type_rooms_data = x['Rooms'].value_counts()\n",
    "        type_rooms_dict = dict(type_rooms_data)\n",
    "        type_rooms = type_rooms_dict.keys()\n",
    "        Square_median_Rooms_dict = {}\n",
    "        for num_rooms in type_rooms:\n",
    "            square_rooms = x.loc[(x['Rooms'] == num_rooms), 'Square']\n",
    "            median_square_rooms = square_rooms.median()\n",
    "            Square_median_Rooms_dict.update({num_rooms:median_square_rooms})\n",
    "            \n",
    "        self.Square_median_Rooms_dict = Square_median_Rooms_dict\n",
    "        \n",
    "        \n",
    "        # При использовании Target encoding и новых категориальных фичей\n",
    "    # результаты сливаются в минус на несколько процентов, как ни крутил, без них точность прогноза выше \n",
    "        \n",
    "       \n",
    "        # Target encoding\n",
    "        ## District\n",
    "#         df = x.copy()\n",
    "        \n",
    "#         if y is not None:\n",
    "#             df['Price'] = y.values\n",
    "            \n",
    "#             df['DistrictId_popular'] = df['DistrictId'].copy()\n",
    "#             df.loc[~df['DistrictId_popular'].isin(district.keys().tolist())] = np.nan\n",
    "            \n",
    "#             self.med_price_by_district = df.groupby(['DistrictId_popular', 'Rooms'], as_index=False).agg({'Price':'median'}).\\\n",
    "#                                             rename(columns={'Price':'MedPriceByDistrict',\n",
    "#                                                            'DistrictId_popular': 'DistrictId'})\n",
    "            \n",
    "#         ## floor, year\n",
    "#         if y is not None:\n",
    "#             df['Price'] = y.values\n",
    "#             df = self.floor_to_cat(df)\n",
    "#             df = self.year_to_cat(df)\n",
    "#             self.med_price_by_floor_year = df.groupby(['year_cat', 'floor_cat'], as_index=False).agg({'Price':'median'}).\\\n",
    "#                                             rename(columns={'Price':'MedPriceByFloorYear'})\n",
    "            \n",
    "#         ## district, house_year\n",
    "#         if y is not None:\n",
    "#             df['Price'] = y.values\n",
    "#             df['DistrictId_count'] = x['DistrictId'].map(self.DistrictId_counts)\n",
    "#             df['DistrictId_count'].fillna(5, inplace=True)\n",
    "#             df = self.district_to_cat(df)\n",
    "#             df = self.year_to_cat(df)\n",
    "#             self.med_price_by_dist_year = df.groupby(['year_cat', 'district_cat'], as_index=False).agg({'Price':'median'}).\\\n",
    "#                                             rename(columns={'Price':'MedPriceByDistrictYear'})\n",
    "             \n",
    "    def transform(self, x):\n",
    "        \n",
    "        # DistrictId\n",
    "        x['DistrictId_count'] = x['DistrictId'].map(self.DistrictId_counts)  # self.DistrictId_counts = {'id': value}\n",
    "\n",
    "        # feature_importance показывает, что от данной фичи толку 0\n",
    "        \n",
    "#         x['new_district'] = 0\n",
    "#         x.loc[x['DistrictId_count'].isna(), 'new_district'] = 1\n",
    "        \n",
    "        x['DistrictId_count'].fillna(5, inplace=True)\n",
    "        \n",
    "        # DistrictId_medians_square\n",
    "\n",
    "        x['DistrictId_median_square'] = x['DistrictId'].map(self.e)\n",
    "        \n",
    "        # DistrictId_medians_HouseFloor\n",
    "                   \n",
    "        x['DistrictId_median_HouseFloor'] = x['DistrictId'].map(self.dict_DistrictId_medians_HouseFloor)\n",
    "        \n",
    "        # Square_median_Rooms\n",
    "        \n",
    "        x['Square_median_Rooms'] = x['Rooms'].map(self.Square_median_Rooms_dict)\n",
    "\n",
    "        \n",
    "        # При использовании Target encoding и новых категориальных фичей\n",
    "    # результаты сливаются в минус на несколько процентов, как ни крутил, без них точность прогноза выше \n",
    "        \n",
    "#         # More categorical features\n",
    "#         x = self.floor_to_cat(x)  # + столбец floor_cat\n",
    "#         x = self.year_to_cat(x)   # + столбец year_cat\n",
    "#         x = self.district_to_cat(x)   \n",
    "        \n",
    "        \n",
    "        return x\n",
    "    \n",
    "    # При использовании Target encoding и новых категориальных фичей\n",
    "    # результаты сливаются в минус на несколько процентов, как ни крутил, без них точность прогноза выше \n",
    "        \n",
    "#         # Target encoding\n",
    "#         if self.med_price_by_district is not None:\n",
    "#             x = x.merge(self.med_price_by_district, on=['DistrictId', 'Rooms'], how='left')\n",
    "#         if self.med_price_by_floor_year is not None:\n",
    "#             x = x.merge(self.med_price_by_floor_year, on=['year_cat', 'floor_cat'], how='left')\n",
    "       \n",
    "#         if self.med_price_by_dist_year is not None:\n",
    "#             x = x.merge(self.med_price_by_dist_year, on=['year_cat', 'district_cat'], how='left')\n",
    "        \n",
    "#         return x\n",
    "    \n",
    "#     @staticmethod\n",
    "#     def floor_to_cat(x):\n",
    "        \n",
    "#         x['floor_cat'] = np.nan\n",
    "        \n",
    "#         x.loc[x['Floor'] < 3, 'floor_cat'] = 1  \n",
    "#         x.loc[(x['Floor'] >= 3) & (x['Floor'] <= 5), 'floor_cat'] = 2\n",
    "#         x.loc[(x['Floor'] > 5) & (x['Floor'] <= 9), 'floor_cat'] = 3\n",
    "#         x.loc[(x['Floor'] > 9) & (x['Floor'] <= 15), 'floor_cat'] = 4\n",
    "#         x.loc[x['Floor'] > 15, 'floor_cat'] = 5\n",
    "# #         x['floor_cat'] = x['floor_cat'].astype(int)\n",
    "            \n",
    "#         return x\n",
    "     \n",
    "#     @staticmethod\n",
    "#     def year_to_cat(x):\n",
    "        \n",
    "#         x['year_cat'] = np.nan\n",
    "        \n",
    "#         x.loc[(x['HouseYear'] <= 1970), 'year_cat'] = 1\n",
    "#         x.loc[(x['HouseYear'] > 1970) & (x['HouseYear'] <= 1976), 'year_cat'] = 2\n",
    "#         x.loc[(x['HouseYear'] > 1976) & (x['HouseYear'] <= 1977), 'year_cat'] = 3\n",
    "#         x.loc[(x['HouseYear'] > 1977) & (x['HouseYear'] <= 1995), 'year_cat'] = 4\n",
    "#         x.loc[(x['HouseYear'] > 1995) & (x['HouseYear'] <= 2010), 'year_cat'] = 5\n",
    "#         x.loc[(x['HouseYear'] > 2010), 'year_cat'] = 6\n",
    "# #         x['year_cat'] = x['year_cat'].astype(int)\n",
    "        \n",
    "#         return x\n",
    "        \n",
    "#     @staticmethod\n",
    "#     def district_to_cat(x):\n",
    "        \n",
    "#         x['district_cat'] = np.nan\n",
    "        \n",
    "#         x.loc[x['DistrictId_count'] < 50, 'district_cat'] = 1\n",
    "#         x.loc[(x['DistrictId_count'] >= 50) & (x['DistrictId_count'] < 100), 'district_cat'] = 2\n",
    "#         x.loc[(x['DistrictId_count'] >= 100) & (x['DistrictId_count'] < 200), 'district_cat'] = 3\n",
    "#         x.loc[(x['DistrictId_count'] >= 200) & (x['DistrictId_count'] < 300), 'district_cat'] = 4\n",
    "#         x.loc[(x['DistrictId_count'] >= 300) & (x['DistrictId_count'] < 450), 'district_cat'] = 5\n",
    "#         x.loc[x['DistrictId_count'] >= 450, 'district_cat'] = 6\n",
    "# #         x['district_cat'] = x['district_cat'].astype(int)\n",
    "            \n",
    "#         return x\n",
    "    \n",
    "    \n",
    "            "
   ]
  },
  {
   "cell_type": "code",
   "execution_count": 9,
   "metadata": {},
   "outputs": [],
   "source": [
    "features = FeatureGenetator()\n",
    "features.fit(x, y)\n",
    "x = features.transform(x)\n",
    "X_final = features.transform(X_final)"
   ]
  },
  {
   "cell_type": "code",
   "execution_count": 10,
   "metadata": {},
   "outputs": [
    {
     "name": "stdout",
     "output_type": "stream",
     "text": [
      "<class 'pandas.core.frame.DataFrame'>\n",
      "Int64Index: 10000 entries, 14038 to 6306\n",
      "Data columns (total 21 columns):\n",
      " #   Column                        Non-Null Count  Dtype  \n",
      "---  ------                        --------------  -----  \n",
      " 0   DistrictId                    10000 non-null  int64  \n",
      " 1   Rooms                         10000 non-null  float64\n",
      " 2   Square                        10000 non-null  float64\n",
      " 3   LifeSquare                    10000 non-null  float64\n",
      " 4   KitchenSquare                 10000 non-null  float64\n",
      " 5   Floor                         10000 non-null  float64\n",
      " 6   HouseFloor                    10000 non-null  float64\n",
      " 7   HouseYear                     10000 non-null  int64  \n",
      " 8   Ecology_1                     10000 non-null  float64\n",
      " 9   Ecology_2                     10000 non-null  int64  \n",
      " 10  Ecology_3                     10000 non-null  int64  \n",
      " 11  Social_1                      10000 non-null  int64  \n",
      " 12  Social_2                      10000 non-null  int64  \n",
      " 13  Social_3                      10000 non-null  int64  \n",
      " 14  Helthcare_2                   10000 non-null  int64  \n",
      " 15  Shops_1                       10000 non-null  int64  \n",
      " 16  Shops_2                       10000 non-null  int64  \n",
      " 17  DistrictId_count              10000 non-null  float64\n",
      " 18  DistrictId_median_square      9112 non-null   float64\n",
      " 19  DistrictId_median_HouseFloor  9112 non-null   float64\n",
      " 20  Square_median_Rooms           10000 non-null  float64\n",
      "dtypes: float64(11), int64(10)\n",
      "memory usage: 2.0 MB\n"
     ]
    }
   ],
   "source": [
    "x.info()"
   ]
  },
  {
   "cell_type": "code",
   "execution_count": 11,
   "metadata": {},
   "outputs": [
    {
     "name": "stdout",
     "output_type": "stream",
     "text": [
      "R2: 0.747 +- 0.020\n"
     ]
    }
   ],
   "source": [
    "model = LGBMRegressor(max_depth=4,\n",
    "                             min_samples_leaf=10,\n",
    "                             n_estimators=600,\n",
    "                             random_state=42,\n",
    "                             n_jobs = 5\n",
    "                             )\n",
    "\n",
    "cv_score = cross_val_score(model, x, y, \n",
    "                           scoring='r2', \n",
    "                           cv=KFold(n_splits=5, shuffle=True, random_state=42))\n",
    "# cv_score\n",
    "mean = cv_score.mean()\n",
    "std = cv_score.std()\n",
    "\n",
    "print('R2: {:.3f} +- {:.3f}'.format(mean, std))"
   ]
  },
  {
   "cell_type": "code",
   "execution_count": null,
   "metadata": {},
   "outputs": [],
   "source": []
  },
  {
   "cell_type": "code",
   "execution_count": 12,
   "metadata": {},
   "outputs": [
    {
     "data": {
      "text/plain": [
       "LGBMRegressor(boosting_type='gbdt', class_weight=None, colsample_bytree=1.0,\n",
       "              importance_type='split', learning_rate=0.1, max_depth=4,\n",
       "              min_child_samples=20, min_child_weight=0.001, min_samples_leaf=10,\n",
       "              min_split_gain=0.0, n_estimators=600, n_jobs=5, num_leaves=31,\n",
       "              objective=None, random_state=42, reg_alpha=0.0, reg_lambda=0.0,\n",
       "              silent=True, subsample=1.0, subsample_for_bin=200000,\n",
       "              subsample_freq=0)"
      ]
     },
     "execution_count": 12,
     "metadata": {},
     "output_type": "execute_result"
    }
   ],
   "source": [
    "model.fit(x, y)"
   ]
  },
  {
   "cell_type": "code",
   "execution_count": 13,
   "metadata": {},
   "outputs": [],
   "source": [
    "y_pred_final = model.predict(X_final)\n",
    "\n",
    "preds_final['Price'] = y_pred_final\n"
   ]
  },
  {
   "cell_type": "code",
   "execution_count": 14,
   "metadata": {},
   "outputs": [
    {
     "data": {
      "text/plain": [
       "(5000, 2)"
      ]
     },
     "execution_count": 14,
     "metadata": {},
     "output_type": "execute_result"
    }
   ],
   "source": [
    "preds_final.shape"
   ]
  },
  {
   "cell_type": "code",
   "execution_count": 15,
   "metadata": {},
   "outputs": [],
   "source": [
    "preds_final.to_csv('predictions.csv', index=False)"
   ]
  },
  {
   "cell_type": "code",
   "execution_count": 16,
   "metadata": {},
   "outputs": [
    {
     "data": {
      "image/png": "[encoded data removed]",
      "text/plain": [
       "<Figure size 1440x432 with 1 Axes>"
      ]
     },
     "metadata": {
      "needs_background": "light"
     },
     "output_type": "display_data"
    }
   ],
   "source": [
    "def plot_feature_importances(importances, X):\n",
    "    \n",
    "    indices = np.argsort(importances)[::-1]\n",
    "\n",
    "    plt.figure(figsize = (20, 6))\n",
    "    plt.title(\"Feature importances\", fontsize=16)\n",
    "    plt.bar(range(X.shape[1]), importances[indices] / importances.sum(),\n",
    "           color=\"darkblue\", align=\"center\")\n",
    "    plt.xticks(range(X.shape[1]), X.columns[indices], rotation = 90, fontsize=14)\n",
    "    plt.xlim([-1, X.shape[1]])\n",
    "\n",
    "    plt.tight_layout()\n",
    "    # plt.savefig('fe.jpg')\n",
    "    plt.show()\n",
    "    \n",
    "plot_feature_importances(importances = model.feature_importances_, X=x)"
   ]
  },
  {
   "cell_type": "code",
   "execution_count": null,
   "metadata": {},
   "outputs": [],
   "source": []
  },
  {
   "cell_type": "code",
   "execution_count": null,
   "metadata": {},
   "outputs": [],
   "source": []
  }
 ],
 "metadata": {
  "kernelspec": {
   "display_name": "Python 3",
   "language": "python",
   "name": "python3"
  },
  "language_info": {
   "codemirror_mode": {
    "name": "ipython",
    "version": 3
   },
   "file_extension": ".py",
   "mimetype": "text/x-python",
   "name": "python",
   "nbconvert_exporter": "python",
   "pygments_lexer": "ipython3",
   "version": "3.7.6"
  }
 },
 "nbformat": 4,
 "nbformat_minor": 4
}
